{
 "cells": [
  {
   "cell_type": "code",
   "execution_count": 1,
   "id": "3ac92f74",
   "metadata": {
    "_cell_guid": "b1076dfc-b9ad-4769-8c92-a6c4dae69d19",
    "_uuid": "8f2839f25d086af736a60e9eeb907d3b93b6e0e5",
    "execution": {
     "iopub.execute_input": "2023-03-11T12:47:27.997328Z",
     "iopub.status.busy": "2023-03-11T12:47:27.996693Z",
     "iopub.status.idle": "2023-03-11T12:47:32.488619Z",
     "shell.execute_reply": "2023-03-11T12:47:32.486863Z"
    },
    "papermill": {
     "duration": 4.500919,
     "end_time": "2023-03-11T12:47:32.491243",
     "exception": false,
     "start_time": "2023-03-11T12:47:27.990324",
     "status": "completed"
    },
    "tags": []
   },
   "outputs": [],
   "source": [
    "#import packegs\n",
    "import numpy as np   # numpy is used for working with arrays\n",
    "import pandas as pd  # pandas is used for working with data sets\n",
    "import pandas_profiling as pp # pandas_profling used for exploratory data analysis\n",
    "import os            # os is used fo handling the directory"
   ]
  },
  {
   "cell_type": "code",
   "execution_count": 2,
   "id": "3c23af76",
   "metadata": {
    "execution": {
     "iopub.execute_input": "2023-03-11T12:47:32.500381Z",
     "iopub.status.busy": "2023-03-11T12:47:32.499681Z",
     "iopub.status.idle": "2023-03-11T12:47:32.507394Z",
     "shell.execute_reply": "2023-03-11T12:47:32.506752Z"
    },
    "papermill": {
     "duration": 0.015108,
     "end_time": "2023-03-11T12:47:32.510012",
     "exception": false,
     "start_time": "2023-03-11T12:47:32.494904",
     "status": "completed"
    },
    "tags": []
   },
   "outputs": [
    {
     "name": "stdout",
     "output_type": "stream",
     "text": [
      "/kaggle/input/spaceship-titanic/sample_submission.csv\n",
      "/kaggle/input/spaceship-titanic/train.csv\n",
      "/kaggle/input/spaceship-titanic/test.csv\n"
     ]
    }
   ],
   "source": [
    "import os\n",
    "for dirname, _, filenames in os.walk('/kaggle/input/spaceship-titanic'):\n",
    "    for filename in filenames:\n",
    "        print(os.path.join(dirname, filename))"
   ]
  },
  {
   "cell_type": "code",
   "execution_count": 3,
   "id": "3405232b",
   "metadata": {
    "execution": {
     "iopub.execute_input": "2023-03-11T12:47:32.520347Z",
     "iopub.status.busy": "2023-03-11T12:47:32.519984Z",
     "iopub.status.idle": "2023-03-11T12:47:32.587036Z",
     "shell.execute_reply": "2023-03-11T12:47:32.586241Z"
    },
    "papermill": {
     "duration": 0.074694,
     "end_time": "2023-03-11T12:47:32.589305",
     "exception": false,
     "start_time": "2023-03-11T12:47:32.514611",
     "status": "completed"
    },
    "tags": []
   },
   "outputs": [],
   "source": [
    "train_data = pd.read_csv(\"/kaggle/input/spaceship-titanic/train.csv\")\n",
    "test_data = pd.read_csv(\"/kaggle/input/spaceship-titanic/test.csv\")"
   ]
  },
  {
   "cell_type": "code",
   "execution_count": 4,
   "id": "d0ac5ba1",
   "metadata": {
    "execution": {
     "iopub.execute_input": "2023-03-11T12:47:32.599165Z",
     "iopub.status.busy": "2023-03-11T12:47:32.598603Z",
     "iopub.status.idle": "2023-03-11T12:47:32.634011Z",
     "shell.execute_reply": "2023-03-11T12:47:32.632009Z"
    },
    "papermill": {
     "duration": 0.043607,
     "end_time": "2023-03-11T12:47:32.636867",
     "exception": false,
     "start_time": "2023-03-11T12:47:32.593260",
     "status": "completed"
    },
    "tags": []
   },
   "outputs": [
    {
     "data": {
      "text/html": [
       "<div>\n",
       "<style scoped>\n",
       "    .dataframe tbody tr th:only-of-type {\n",
       "        vertical-align: middle;\n",
       "    }\n",
       "\n",
       "    .dataframe tbody tr th {\n",
       "        vertical-align: top;\n",
       "    }\n",
       "\n",
       "    .dataframe thead th {\n",
       "        text-align: right;\n",
       "    }\n",
       "</style>\n",
       "<table border=\"1\" class=\"dataframe\">\n",
       "  <thead>\n",
       "    <tr style=\"text-align: right;\">\n",
       "      <th></th>\n",
       "      <th>PassengerId</th>\n",
       "      <th>HomePlanet</th>\n",
       "      <th>CryoSleep</th>\n",
       "      <th>Cabin</th>\n",
       "      <th>Destination</th>\n",
       "      <th>Age</th>\n",
       "      <th>VIP</th>\n",
       "      <th>RoomService</th>\n",
       "      <th>FoodCourt</th>\n",
       "      <th>ShoppingMall</th>\n",
       "      <th>Spa</th>\n",
       "      <th>VRDeck</th>\n",
       "      <th>Name</th>\n",
       "    </tr>\n",
       "  </thead>\n",
       "  <tbody>\n",
       "    <tr>\n",
       "      <th>0</th>\n",
       "      <td>0013_01</td>\n",
       "      <td>Earth</td>\n",
       "      <td>True</td>\n",
       "      <td>G/3/S</td>\n",
       "      <td>TRAPPIST-1e</td>\n",
       "      <td>27.0</td>\n",
       "      <td>False</td>\n",
       "      <td>0.0</td>\n",
       "      <td>0.0</td>\n",
       "      <td>0.0</td>\n",
       "      <td>0.0</td>\n",
       "      <td>0.0</td>\n",
       "      <td>Nelly Carsoning</td>\n",
       "    </tr>\n",
       "    <tr>\n",
       "      <th>1</th>\n",
       "      <td>0018_01</td>\n",
       "      <td>Earth</td>\n",
       "      <td>False</td>\n",
       "      <td>F/4/S</td>\n",
       "      <td>TRAPPIST-1e</td>\n",
       "      <td>19.0</td>\n",
       "      <td>False</td>\n",
       "      <td>0.0</td>\n",
       "      <td>9.0</td>\n",
       "      <td>0.0</td>\n",
       "      <td>2823.0</td>\n",
       "      <td>0.0</td>\n",
       "      <td>Lerome Peckers</td>\n",
       "    </tr>\n",
       "    <tr>\n",
       "      <th>2</th>\n",
       "      <td>0019_01</td>\n",
       "      <td>Europa</td>\n",
       "      <td>True</td>\n",
       "      <td>C/0/S</td>\n",
       "      <td>55 Cancri e</td>\n",
       "      <td>31.0</td>\n",
       "      <td>False</td>\n",
       "      <td>0.0</td>\n",
       "      <td>0.0</td>\n",
       "      <td>0.0</td>\n",
       "      <td>0.0</td>\n",
       "      <td>0.0</td>\n",
       "      <td>Sabih Unhearfus</td>\n",
       "    </tr>\n",
       "    <tr>\n",
       "      <th>3</th>\n",
       "      <td>0021_01</td>\n",
       "      <td>Europa</td>\n",
       "      <td>False</td>\n",
       "      <td>C/1/S</td>\n",
       "      <td>TRAPPIST-1e</td>\n",
       "      <td>38.0</td>\n",
       "      <td>False</td>\n",
       "      <td>0.0</td>\n",
       "      <td>6652.0</td>\n",
       "      <td>0.0</td>\n",
       "      <td>181.0</td>\n",
       "      <td>585.0</td>\n",
       "      <td>Meratz Caltilter</td>\n",
       "    </tr>\n",
       "    <tr>\n",
       "      <th>4</th>\n",
       "      <td>0023_01</td>\n",
       "      <td>Earth</td>\n",
       "      <td>False</td>\n",
       "      <td>F/5/S</td>\n",
       "      <td>TRAPPIST-1e</td>\n",
       "      <td>20.0</td>\n",
       "      <td>False</td>\n",
       "      <td>10.0</td>\n",
       "      <td>0.0</td>\n",
       "      <td>635.0</td>\n",
       "      <td>0.0</td>\n",
       "      <td>0.0</td>\n",
       "      <td>Brence Harperez</td>\n",
       "    </tr>\n",
       "  </tbody>\n",
       "</table>\n",
       "</div>"
      ],
      "text/plain": [
       "  PassengerId HomePlanet CryoSleep  Cabin  Destination   Age    VIP  \\\n",
       "0     0013_01      Earth      True  G/3/S  TRAPPIST-1e  27.0  False   \n",
       "1     0018_01      Earth     False  F/4/S  TRAPPIST-1e  19.0  False   \n",
       "2     0019_01     Europa      True  C/0/S  55 Cancri e  31.0  False   \n",
       "3     0021_01     Europa     False  C/1/S  TRAPPIST-1e  38.0  False   \n",
       "4     0023_01      Earth     False  F/5/S  TRAPPIST-1e  20.0  False   \n",
       "\n",
       "   RoomService  FoodCourt  ShoppingMall     Spa  VRDeck              Name  \n",
       "0          0.0        0.0           0.0     0.0     0.0   Nelly Carsoning  \n",
       "1          0.0        9.0           0.0  2823.0     0.0    Lerome Peckers  \n",
       "2          0.0        0.0           0.0     0.0     0.0   Sabih Unhearfus  \n",
       "3          0.0     6652.0           0.0   181.0   585.0  Meratz Caltilter  \n",
       "4         10.0        0.0         635.0     0.0     0.0   Brence Harperez  "
      ]
     },
     "execution_count": 4,
     "metadata": {},
     "output_type": "execute_result"
    }
   ],
   "source": [
    "test_data.head()"
   ]
  },
  {
   "cell_type": "code",
   "execution_count": 5,
   "id": "0ce60ab3",
   "metadata": {
    "execution": {
     "iopub.execute_input": "2023-03-11T12:47:32.647663Z",
     "iopub.status.busy": "2023-03-11T12:47:32.646690Z",
     "iopub.status.idle": "2023-03-11T12:47:32.667200Z",
     "shell.execute_reply": "2023-03-11T12:47:32.664993Z"
    },
    "papermill": {
     "duration": 0.029283,
     "end_time": "2023-03-11T12:47:32.670360",
     "exception": false,
     "start_time": "2023-03-11T12:47:32.641077",
     "status": "completed"
    },
    "tags": []
   },
   "outputs": [
    {
     "data": {
      "text/html": [
       "<div>\n",
       "<style scoped>\n",
       "    .dataframe tbody tr th:only-of-type {\n",
       "        vertical-align: middle;\n",
       "    }\n",
       "\n",
       "    .dataframe tbody tr th {\n",
       "        vertical-align: top;\n",
       "    }\n",
       "\n",
       "    .dataframe thead th {\n",
       "        text-align: right;\n",
       "    }\n",
       "</style>\n",
       "<table border=\"1\" class=\"dataframe\">\n",
       "  <thead>\n",
       "    <tr style=\"text-align: right;\">\n",
       "      <th></th>\n",
       "      <th>PassengerId</th>\n",
       "      <th>HomePlanet</th>\n",
       "      <th>CryoSleep</th>\n",
       "      <th>Cabin</th>\n",
       "      <th>Destination</th>\n",
       "      <th>Age</th>\n",
       "      <th>VIP</th>\n",
       "      <th>RoomService</th>\n",
       "      <th>FoodCourt</th>\n",
       "      <th>ShoppingMall</th>\n",
       "      <th>Spa</th>\n",
       "      <th>VRDeck</th>\n",
       "      <th>Name</th>\n",
       "      <th>Transported</th>\n",
       "    </tr>\n",
       "  </thead>\n",
       "  <tbody>\n",
       "    <tr>\n",
       "      <th>0</th>\n",
       "      <td>0001_01</td>\n",
       "      <td>Europa</td>\n",
       "      <td>False</td>\n",
       "      <td>B/0/P</td>\n",
       "      <td>TRAPPIST-1e</td>\n",
       "      <td>39.0</td>\n",
       "      <td>False</td>\n",
       "      <td>0.0</td>\n",
       "      <td>0.0</td>\n",
       "      <td>0.0</td>\n",
       "      <td>0.0</td>\n",
       "      <td>0.0</td>\n",
       "      <td>Maham Ofracculy</td>\n",
       "      <td>False</td>\n",
       "    </tr>\n",
       "    <tr>\n",
       "      <th>1</th>\n",
       "      <td>0002_01</td>\n",
       "      <td>Earth</td>\n",
       "      <td>False</td>\n",
       "      <td>F/0/S</td>\n",
       "      <td>TRAPPIST-1e</td>\n",
       "      <td>24.0</td>\n",
       "      <td>False</td>\n",
       "      <td>109.0</td>\n",
       "      <td>9.0</td>\n",
       "      <td>25.0</td>\n",
       "      <td>549.0</td>\n",
       "      <td>44.0</td>\n",
       "      <td>Juanna Vines</td>\n",
       "      <td>True</td>\n",
       "    </tr>\n",
       "    <tr>\n",
       "      <th>2</th>\n",
       "      <td>0003_01</td>\n",
       "      <td>Europa</td>\n",
       "      <td>False</td>\n",
       "      <td>A/0/S</td>\n",
       "      <td>TRAPPIST-1e</td>\n",
       "      <td>58.0</td>\n",
       "      <td>True</td>\n",
       "      <td>43.0</td>\n",
       "      <td>3576.0</td>\n",
       "      <td>0.0</td>\n",
       "      <td>6715.0</td>\n",
       "      <td>49.0</td>\n",
       "      <td>Altark Susent</td>\n",
       "      <td>False</td>\n",
       "    </tr>\n",
       "    <tr>\n",
       "      <th>3</th>\n",
       "      <td>0003_02</td>\n",
       "      <td>Europa</td>\n",
       "      <td>False</td>\n",
       "      <td>A/0/S</td>\n",
       "      <td>TRAPPIST-1e</td>\n",
       "      <td>33.0</td>\n",
       "      <td>False</td>\n",
       "      <td>0.0</td>\n",
       "      <td>1283.0</td>\n",
       "      <td>371.0</td>\n",
       "      <td>3329.0</td>\n",
       "      <td>193.0</td>\n",
       "      <td>Solam Susent</td>\n",
       "      <td>False</td>\n",
       "    </tr>\n",
       "    <tr>\n",
       "      <th>4</th>\n",
       "      <td>0004_01</td>\n",
       "      <td>Earth</td>\n",
       "      <td>False</td>\n",
       "      <td>F/1/S</td>\n",
       "      <td>TRAPPIST-1e</td>\n",
       "      <td>16.0</td>\n",
       "      <td>False</td>\n",
       "      <td>303.0</td>\n",
       "      <td>70.0</td>\n",
       "      <td>151.0</td>\n",
       "      <td>565.0</td>\n",
       "      <td>2.0</td>\n",
       "      <td>Willy Santantines</td>\n",
       "      <td>True</td>\n",
       "    </tr>\n",
       "  </tbody>\n",
       "</table>\n",
       "</div>"
      ],
      "text/plain": [
       "  PassengerId HomePlanet CryoSleep  Cabin  Destination   Age    VIP  \\\n",
       "0     0001_01     Europa     False  B/0/P  TRAPPIST-1e  39.0  False   \n",
       "1     0002_01      Earth     False  F/0/S  TRAPPIST-1e  24.0  False   \n",
       "2     0003_01     Europa     False  A/0/S  TRAPPIST-1e  58.0   True   \n",
       "3     0003_02     Europa     False  A/0/S  TRAPPIST-1e  33.0  False   \n",
       "4     0004_01      Earth     False  F/1/S  TRAPPIST-1e  16.0  False   \n",
       "\n",
       "   RoomService  FoodCourt  ShoppingMall     Spa  VRDeck               Name  \\\n",
       "0          0.0        0.0           0.0     0.0     0.0    Maham Ofracculy   \n",
       "1        109.0        9.0          25.0   549.0    44.0       Juanna Vines   \n",
       "2         43.0     3576.0           0.0  6715.0    49.0      Altark Susent   \n",
       "3          0.0     1283.0         371.0  3329.0   193.0       Solam Susent   \n",
       "4        303.0       70.0         151.0   565.0     2.0  Willy Santantines   \n",
       "\n",
       "   Transported  \n",
       "0        False  \n",
       "1         True  \n",
       "2        False  \n",
       "3        False  \n",
       "4         True  "
      ]
     },
     "execution_count": 5,
     "metadata": {},
     "output_type": "execute_result"
    }
   ],
   "source": [
    "train_data.head()"
   ]
  },
  {
   "cell_type": "code",
   "execution_count": 6,
   "id": "eb6f3688",
   "metadata": {
    "execution": {
     "iopub.execute_input": "2023-03-11T12:47:32.680446Z",
     "iopub.status.busy": "2023-03-11T12:47:32.680115Z",
     "iopub.status.idle": "2023-03-11T12:47:32.872328Z",
     "shell.execute_reply": "2023-03-11T12:47:32.870838Z"
    },
    "papermill": {
     "duration": 0.200102,
     "end_time": "2023-03-11T12:47:32.874870",
     "exception": false,
     "start_time": "2023-03-11T12:47:32.674768",
     "status": "completed"
    },
    "tags": []
   },
   "outputs": [],
   "source": [
    "from sklearn import preprocessing\n",
    "\n",
    "label_encoder = preprocessing.LabelEncoder()\n",
    "\n",
    "test_data['CryoSleep']= label_encoder.fit_transform(test_data['CryoSleep'])\n",
    "train_data['CryoSleep']= label_encoder.fit_transform(train_data['CryoSleep'])\n",
    "\n",
    "test_data['Destination']= label_encoder.fit_transform(test_data['Destination'])\n",
    "train_data['Destination']= label_encoder.fit_transform(train_data['Destination'])\n",
    "\n",
    "test_data['VIP']= label_encoder.fit_transform(test_data['VIP'])\n",
    "train_data['VIP']= label_encoder.fit_transform(train_data['VIP'])"
   ]
  },
  {
   "cell_type": "code",
   "execution_count": 7,
   "id": "3b6f99a7",
   "metadata": {
    "execution": {
     "iopub.execute_input": "2023-03-11T12:47:32.885652Z",
     "iopub.status.busy": "2023-03-11T12:47:32.885077Z",
     "iopub.status.idle": "2023-03-11T12:47:32.897036Z",
     "shell.execute_reply": "2023-03-11T12:47:32.895977Z"
    },
    "papermill": {
     "duration": 0.020145,
     "end_time": "2023-03-11T12:47:32.899317",
     "exception": false,
     "start_time": "2023-03-11T12:47:32.879172",
     "status": "completed"
    },
    "tags": []
   },
   "outputs": [
    {
     "data": {
      "text/plain": [
       "PassengerId       0\n",
       "HomePlanet      201\n",
       "CryoSleep         0\n",
       "Cabin           199\n",
       "Destination       0\n",
       "Age             179\n",
       "VIP               0\n",
       "RoomService     181\n",
       "FoodCourt       183\n",
       "ShoppingMall    208\n",
       "Spa             183\n",
       "VRDeck          188\n",
       "Name            200\n",
       "Transported       0\n",
       "dtype: int64"
      ]
     },
     "execution_count": 7,
     "metadata": {},
     "output_type": "execute_result"
    }
   ],
   "source": [
    "train_data.isnull().sum()"
   ]
  },
  {
   "cell_type": "code",
   "execution_count": 8,
   "id": "1047d5e8",
   "metadata": {
    "execution": {
     "iopub.execute_input": "2023-03-11T12:47:32.910336Z",
     "iopub.status.busy": "2023-03-11T12:47:32.909788Z",
     "iopub.status.idle": "2023-03-11T12:47:32.916179Z",
     "shell.execute_reply": "2023-03-11T12:47:32.915466Z"
    },
    "papermill": {
     "duration": 0.014331,
     "end_time": "2023-03-11T12:47:32.918339",
     "exception": false,
     "start_time": "2023-03-11T12:47:32.904008",
     "status": "completed"
    },
    "tags": []
   },
   "outputs": [],
   "source": [
    "New_age=train_data['Age'].mean()\n",
    "New_age1=test_data['Age'].mean()\n",
    "\n",
    "New_roomservice=train_data['RoomService'].mean()\n",
    "New_roomservice1=test_data['RoomService'].mean()\n",
    "\n",
    "New_spa=train_data['Spa'].mean()\n",
    "New_spa1=test_data['Spa'].mean()\n",
    "\n",
    "New_ShoppingMall=train_data['ShoppingMall'].mean()\n",
    "New_ShoppingMall1=test_data['ShoppingMall'].mean()"
   ]
  },
  {
   "cell_type": "code",
   "execution_count": 9,
   "id": "c7b859e1",
   "metadata": {
    "execution": {
     "iopub.execute_input": "2023-03-11T12:47:32.929180Z",
     "iopub.status.busy": "2023-03-11T12:47:32.928267Z",
     "iopub.status.idle": "2023-03-11T12:47:32.938420Z",
     "shell.execute_reply": "2023-03-11T12:47:32.936940Z"
    },
    "papermill": {
     "duration": 0.018581,
     "end_time": "2023-03-11T12:47:32.941167",
     "exception": false,
     "start_time": "2023-03-11T12:47:32.922586",
     "status": "completed"
    },
    "tags": []
   },
   "outputs": [],
   "source": [
    "# fillna() is used for fill all NaN into the data that we are giving\n",
    "train_data['Age'] = train_data['Age'].fillna(New_age)\n",
    "test_data['Age'] = test_data['Age'].fillna(New_age1)\n",
    "\n",
    "train_data['RoomService'] = train_data['RoomService'].fillna(New_roomservice)\n",
    "test_data['RoomService'] = test_data['RoomService'].fillna(New_roomservice1)\n",
    "\n",
    "train_data['Spa'] = train_data['Spa'].fillna(New_spa)\n",
    "test_data['Spa'] = test_data['Spa'].fillna(New_spa1)\n",
    "\n",
    "train_data['Spa'] = train_data['Spa'].fillna(New_spa)\n",
    "test_data['Spa'] = test_data['Spa'].fillna(New_spa1)\n",
    "\n",
    "train_data['ShoppingMall'] = train_data['ShoppingMall'].fillna(New_ShoppingMall)\n",
    "test_data['ShoppingMall'] = test_data['ShoppingMall'].fillna(New_ShoppingMall1)"
   ]
  },
  {
   "cell_type": "code",
   "execution_count": 10,
   "id": "bf4be741",
   "metadata": {
    "execution": {
     "iopub.execute_input": "2023-03-11T12:47:32.951534Z",
     "iopub.status.busy": "2023-03-11T12:47:32.951178Z",
     "iopub.status.idle": "2023-03-11T12:47:32.974419Z",
     "shell.execute_reply": "2023-03-11T12:47:32.973494Z"
    },
    "papermill": {
     "duration": 0.031783,
     "end_time": "2023-03-11T12:47:32.977233",
     "exception": false,
     "start_time": "2023-03-11T12:47:32.945450",
     "status": "completed"
    },
    "tags": []
   },
   "outputs": [],
   "source": [
    "y = train_data[\"Transported\"]\n",
    "Data = [\"CryoSleep\",\"Destination\",\"Age\",\"VIP\",\"RoomService\",\n",
    "        \"ShoppingMall\",\"Spa\"]\n",
    "\n",
    "X = pd.get_dummies(train_data[Data])\n",
    "X_test = pd.get_dummies(test_data[Data])"
   ]
  },
  {
   "cell_type": "code",
   "execution_count": 11,
   "id": "ca13aa9f",
   "metadata": {
    "execution": {
     "iopub.execute_input": "2023-03-11T12:47:32.987605Z",
     "iopub.status.busy": "2023-03-11T12:47:32.987231Z",
     "iopub.status.idle": "2023-03-11T12:47:33.420709Z",
     "shell.execute_reply": "2023-03-11T12:47:33.419205Z"
    },
    "papermill": {
     "duration": 0.441839,
     "end_time": "2023-03-11T12:47:33.423476",
     "exception": false,
     "start_time": "2023-03-11T12:47:32.981637",
     "status": "completed"
    },
    "tags": []
   },
   "outputs": [],
   "source": [
    "# we are using KNeighborsClassifier for training to get desire output.\n",
    "from sklearn.neighbors import KNeighborsClassifier\n",
    "model = KNeighborsClassifier()\n",
    "\n",
    "model.fit(X, y)\n",
    "\n",
    "y_pred = model.predict(X_test)\n",
    "\n",
    "\n",
    "numeric = np.array([[0,2,24.0,0,109.0,25.0,549.0]])\n",
    "columns = ['CryoSleep','Destination','Age','VIP','RoomService','ShoppingMall','Spa']\n",
    "\n",
    "# pd.DataFrame is used for creating a dataset\n",
    "new_data = pd.DataFrame(data = numeric, columns = columns)"
   ]
  },
  {
   "cell_type": "code",
   "execution_count": 12,
   "id": "3e7ddd5b",
   "metadata": {
    "execution": {
     "iopub.execute_input": "2023-03-11T12:47:33.435056Z",
     "iopub.status.busy": "2023-03-11T12:47:33.434719Z",
     "iopub.status.idle": "2023-03-11T12:47:33.447314Z",
     "shell.execute_reply": "2023-03-11T12:47:33.445152Z"
    },
    "papermill": {
     "duration": 0.021724,
     "end_time": "2023-03-11T12:47:33.450098",
     "exception": false,
     "start_time": "2023-03-11T12:47:33.428374",
     "status": "completed"
    },
    "tags": []
   },
   "outputs": [
    {
     "data": {
      "text/plain": [
       "array([False])"
      ]
     },
     "execution_count": 12,
     "metadata": {},
     "output_type": "execute_result"
    }
   ],
   "source": [
    "model.predict(new_data)"
   ]
  },
  {
   "cell_type": "code",
   "execution_count": 13,
   "id": "b2aaf157",
   "metadata": {
    "execution": {
     "iopub.execute_input": "2023-03-11T12:47:33.460569Z",
     "iopub.status.busy": "2023-03-11T12:47:33.460185Z",
     "iopub.status.idle": "2023-03-11T12:47:33.475354Z",
     "shell.execute_reply": "2023-03-11T12:47:33.474291Z"
    },
    "papermill": {
     "duration": 0.023407,
     "end_time": "2023-03-11T12:47:33.477947",
     "exception": false,
     "start_time": "2023-03-11T12:47:33.454540",
     "status": "completed"
    },
    "tags": []
   },
   "outputs": [],
   "source": [
    "output = pd.DataFrame({'PassengerId': test_data.PassengerId, 'Transported': y_pred})\n",
    "output.to_csv('submission.csv', index=False)"
   ]
  },
  {
   "cell_type": "code",
   "execution_count": null,
   "id": "dcd14251",
   "metadata": {
    "papermill": {
     "duration": 0.003864,
     "end_time": "2023-03-11T12:47:33.486168",
     "exception": false,
     "start_time": "2023-03-11T12:47:33.482304",
     "status": "completed"
    },
    "tags": []
   },
   "outputs": [],
   "source": []
  }
 ],
 "metadata": {
  "kernelspec": {
   "display_name": "Python 3",
   "language": "python",
   "name": "python3"
  },
  "language_info": {
   "codemirror_mode": {
    "name": "ipython",
    "version": 3
   },
   "file_extension": ".py",
   "mimetype": "text/x-python",
   "name": "python",
   "nbconvert_exporter": "python",
   "pygments_lexer": "ipython3",
   "version": "3.7.12"
  },
  "papermill": {
   "default_parameters": {},
   "duration": 15.739684,
   "end_time": "2023-03-11T12:47:34.412675",
   "environment_variables": {},
   "exception": null,
   "input_path": "__notebook__.ipynb",
   "output_path": "__notebook__.ipynb",
   "parameters": {},
   "start_time": "2023-03-11T12:47:18.672991",
   "version": "2.4.0"
  }
 },
 "nbformat": 4,
 "nbformat_minor": 5
}
