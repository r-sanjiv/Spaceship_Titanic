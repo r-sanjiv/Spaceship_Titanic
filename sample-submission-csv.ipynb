{
 "cells": [
  {
   "cell_type": "code",
   "execution_count": 1,
   "id": "44ca88fd",
   "metadata": {
    "_cell_guid": "b1076dfc-b9ad-4769-8c92-a6c4dae69d19",
    "_uuid": "8f2839f25d086af736a60e9eeb907d3b93b6e0e5",
    "execution": {
     "iopub.execute_input": "2023-03-12T07:05:25.290525Z",
     "iopub.status.busy": "2023-03-12T07:05:25.289997Z",
     "iopub.status.idle": "2023-03-12T07:05:30.349238Z",
     "shell.execute_reply": "2023-03-12T07:05:30.347552Z"
    },
    "papermill": {
     "duration": 5.07537,
     "end_time": "2023-03-12T07:05:30.352831",
     "exception": false,
     "start_time": "2023-03-12T07:05:25.277461",
     "status": "completed"
    },
    "tags": []
   },
   "outputs": [],
   "source": [
    "#import packegs\n",
    "import numpy as np   # numpy is used for working with arrays\n",
    "import pandas as pd  # pandas is used for working with data sets\n",
    "import pandas_profiling as pp # pandas_profling used for exploratory data analysis\n",
    "import os            # os is used fo handling the directory\n",
    "import seaborn as sns # seaborn is used for visualization"
   ]
  },
  {
   "cell_type": "code",
   "execution_count": 2,
   "id": "9c8146a0",
   "metadata": {
    "execution": {
     "iopub.execute_input": "2023-03-12T07:05:30.369760Z",
     "iopub.status.busy": "2023-03-12T07:05:30.368612Z",
     "iopub.status.idle": "2023-03-12T07:05:30.380575Z",
     "shell.execute_reply": "2023-03-12T07:05:30.378600Z"
    },
    "papermill": {
     "duration": 0.023723,
     "end_time": "2023-03-12T07:05:30.383656",
     "exception": false,
     "start_time": "2023-03-12T07:05:30.359933",
     "status": "completed"
    },
    "tags": []
   },
   "outputs": [
    {
     "name": "stdout",
     "output_type": "stream",
     "text": [
      "/kaggle/input/spaceship-titanic/sample_submission.csv\n",
      "/kaggle/input/spaceship-titanic/train.csv\n",
      "/kaggle/input/spaceship-titanic/test.csv\n"
     ]
    }
   ],
   "source": [
    "import os\n",
    "for dirname, _, filenames in os.walk('/kaggle/input/spaceship-titanic'):\n",
    "    for filename in filenames:\n",
    "        print(os.path.join(dirname, filename))"
   ]
  },
  {
   "cell_type": "code",
   "execution_count": 3,
   "id": "d9e1460b",
   "metadata": {
    "execution": {
     "iopub.execute_input": "2023-03-12T07:05:30.398771Z",
     "iopub.status.busy": "2023-03-12T07:05:30.398340Z",
     "iopub.status.idle": "2023-03-12T07:05:30.485855Z",
     "shell.execute_reply": "2023-03-12T07:05:30.484602Z"
    },
    "papermill": {
     "duration": 0.098302,
     "end_time": "2023-03-12T07:05:30.488646",
     "exception": false,
     "start_time": "2023-03-12T07:05:30.390344",
     "status": "completed"
    },
    "tags": []
   },
   "outputs": [],
   "source": [
    "train_data = pd.read_csv(\"/kaggle/input/spaceship-titanic/train.csv\")\n",
    "test_data = pd.read_csv(\"/kaggle/input/spaceship-titanic/test.csv\")"
   ]
  },
  {
   "cell_type": "code",
   "execution_count": 4,
   "id": "74222e4a",
   "metadata": {
    "execution": {
     "iopub.execute_input": "2023-03-12T07:05:30.503041Z",
     "iopub.status.busy": "2023-03-12T07:05:30.502497Z",
     "iopub.status.idle": "2023-03-12T07:05:30.542716Z",
     "shell.execute_reply": "2023-03-12T07:05:30.541386Z"
    },
    "papermill": {
     "duration": 0.050951,
     "end_time": "2023-03-12T07:05:30.545866",
     "exception": false,
     "start_time": "2023-03-12T07:05:30.494915",
     "status": "completed"
    },
    "tags": []
   },
   "outputs": [
    {
     "data": {
      "text/html": [
       "<div>\n",
       "<style scoped>\n",
       "    .dataframe tbody tr th:only-of-type {\n",
       "        vertical-align: middle;\n",
       "    }\n",
       "\n",
       "    .dataframe tbody tr th {\n",
       "        vertical-align: top;\n",
       "    }\n",
       "\n",
       "    .dataframe thead th {\n",
       "        text-align: right;\n",
       "    }\n",
       "</style>\n",
       "<table border=\"1\" class=\"dataframe\">\n",
       "  <thead>\n",
       "    <tr style=\"text-align: right;\">\n",
       "      <th></th>\n",
       "      <th>PassengerId</th>\n",
       "      <th>HomePlanet</th>\n",
       "      <th>CryoSleep</th>\n",
       "      <th>Cabin</th>\n",
       "      <th>Destination</th>\n",
       "      <th>Age</th>\n",
       "      <th>VIP</th>\n",
       "      <th>RoomService</th>\n",
       "      <th>FoodCourt</th>\n",
       "      <th>ShoppingMall</th>\n",
       "      <th>Spa</th>\n",
       "      <th>VRDeck</th>\n",
       "      <th>Name</th>\n",
       "    </tr>\n",
       "  </thead>\n",
       "  <tbody>\n",
       "    <tr>\n",
       "      <th>0</th>\n",
       "      <td>0013_01</td>\n",
       "      <td>Earth</td>\n",
       "      <td>True</td>\n",
       "      <td>G/3/S</td>\n",
       "      <td>TRAPPIST-1e</td>\n",
       "      <td>27.0</td>\n",
       "      <td>False</td>\n",
       "      <td>0.0</td>\n",
       "      <td>0.0</td>\n",
       "      <td>0.0</td>\n",
       "      <td>0.0</td>\n",
       "      <td>0.0</td>\n",
       "      <td>Nelly Carsoning</td>\n",
       "    </tr>\n",
       "    <tr>\n",
       "      <th>1</th>\n",
       "      <td>0018_01</td>\n",
       "      <td>Earth</td>\n",
       "      <td>False</td>\n",
       "      <td>F/4/S</td>\n",
       "      <td>TRAPPIST-1e</td>\n",
       "      <td>19.0</td>\n",
       "      <td>False</td>\n",
       "      <td>0.0</td>\n",
       "      <td>9.0</td>\n",
       "      <td>0.0</td>\n",
       "      <td>2823.0</td>\n",
       "      <td>0.0</td>\n",
       "      <td>Lerome Peckers</td>\n",
       "    </tr>\n",
       "    <tr>\n",
       "      <th>2</th>\n",
       "      <td>0019_01</td>\n",
       "      <td>Europa</td>\n",
       "      <td>True</td>\n",
       "      <td>C/0/S</td>\n",
       "      <td>55 Cancri e</td>\n",
       "      <td>31.0</td>\n",
       "      <td>False</td>\n",
       "      <td>0.0</td>\n",
       "      <td>0.0</td>\n",
       "      <td>0.0</td>\n",
       "      <td>0.0</td>\n",
       "      <td>0.0</td>\n",
       "      <td>Sabih Unhearfus</td>\n",
       "    </tr>\n",
       "    <tr>\n",
       "      <th>3</th>\n",
       "      <td>0021_01</td>\n",
       "      <td>Europa</td>\n",
       "      <td>False</td>\n",
       "      <td>C/1/S</td>\n",
       "      <td>TRAPPIST-1e</td>\n",
       "      <td>38.0</td>\n",
       "      <td>False</td>\n",
       "      <td>0.0</td>\n",
       "      <td>6652.0</td>\n",
       "      <td>0.0</td>\n",
       "      <td>181.0</td>\n",
       "      <td>585.0</td>\n",
       "      <td>Meratz Caltilter</td>\n",
       "    </tr>\n",
       "    <tr>\n",
       "      <th>4</th>\n",
       "      <td>0023_01</td>\n",
       "      <td>Earth</td>\n",
       "      <td>False</td>\n",
       "      <td>F/5/S</td>\n",
       "      <td>TRAPPIST-1e</td>\n",
       "      <td>20.0</td>\n",
       "      <td>False</td>\n",
       "      <td>10.0</td>\n",
       "      <td>0.0</td>\n",
       "      <td>635.0</td>\n",
       "      <td>0.0</td>\n",
       "      <td>0.0</td>\n",
       "      <td>Brence Harperez</td>\n",
       "    </tr>\n",
       "  </tbody>\n",
       "</table>\n",
       "</div>"
      ],
      "text/plain": [
       "  PassengerId HomePlanet CryoSleep  Cabin  Destination   Age    VIP  \\\n",
       "0     0013_01      Earth      True  G/3/S  TRAPPIST-1e  27.0  False   \n",
       "1     0018_01      Earth     False  F/4/S  TRAPPIST-1e  19.0  False   \n",
       "2     0019_01     Europa      True  C/0/S  55 Cancri e  31.0  False   \n",
       "3     0021_01     Europa     False  C/1/S  TRAPPIST-1e  38.0  False   \n",
       "4     0023_01      Earth     False  F/5/S  TRAPPIST-1e  20.0  False   \n",
       "\n",
       "   RoomService  FoodCourt  ShoppingMall     Spa  VRDeck              Name  \n",
       "0          0.0        0.0           0.0     0.0     0.0   Nelly Carsoning  \n",
       "1          0.0        9.0           0.0  2823.0     0.0    Lerome Peckers  \n",
       "2          0.0        0.0           0.0     0.0     0.0   Sabih Unhearfus  \n",
       "3          0.0     6652.0           0.0   181.0   585.0  Meratz Caltilter  \n",
       "4         10.0        0.0         635.0     0.0     0.0   Brence Harperez  "
      ]
     },
     "execution_count": 4,
     "metadata": {},
     "output_type": "execute_result"
    }
   ],
   "source": [
    "test_data.head()"
   ]
  },
  {
   "cell_type": "code",
   "execution_count": 5,
   "id": "f42dde9d",
   "metadata": {
    "execution": {
     "iopub.execute_input": "2023-03-12T07:05:30.560604Z",
     "iopub.status.busy": "2023-03-12T07:05:30.560189Z",
     "iopub.status.idle": "2023-03-12T07:05:30.568447Z",
     "shell.execute_reply": "2023-03-12T07:05:30.567026Z"
    },
    "papermill": {
     "duration": 0.018974,
     "end_time": "2023-03-12T07:05:30.571260",
     "exception": false,
     "start_time": "2023-03-12T07:05:30.552286",
     "status": "completed"
    },
    "tags": []
   },
   "outputs": [
    {
     "data": {
      "text/plain": [
       "((8693, 14), (4277, 13))"
      ]
     },
     "execution_count": 5,
     "metadata": {},
     "output_type": "execute_result"
    }
   ],
   "source": [
    "train_data.shape, test_data.shape"
   ]
  },
  {
   "cell_type": "code",
   "execution_count": 6,
   "id": "caf08357",
   "metadata": {
    "execution": {
     "iopub.execute_input": "2023-03-12T07:05:30.586833Z",
     "iopub.status.busy": "2023-03-12T07:05:30.586381Z",
     "iopub.status.idle": "2023-03-12T07:05:30.608810Z",
     "shell.execute_reply": "2023-03-12T07:05:30.606258Z"
    },
    "papermill": {
     "duration": 0.033854,
     "end_time": "2023-03-12T07:05:30.611852",
     "exception": false,
     "start_time": "2023-03-12T07:05:30.577998",
     "status": "completed"
    },
    "tags": []
   },
   "outputs": [
    {
     "name": "stdout",
     "output_type": "stream",
     "text": [
      "<bound method NDFrame.describe of      PassengerId HomePlanet CryoSleep     Cabin    Destination   Age    VIP  \\\n",
      "0        0001_01     Europa     False     B/0/P    TRAPPIST-1e  39.0  False   \n",
      "1        0002_01      Earth     False     F/0/S    TRAPPIST-1e  24.0  False   \n",
      "2        0003_01     Europa     False     A/0/S    TRAPPIST-1e  58.0   True   \n",
      "3        0003_02     Europa     False     A/0/S    TRAPPIST-1e  33.0  False   \n",
      "4        0004_01      Earth     False     F/1/S    TRAPPIST-1e  16.0  False   \n",
      "...          ...        ...       ...       ...            ...   ...    ...   \n",
      "8688     9276_01     Europa     False    A/98/P    55 Cancri e  41.0   True   \n",
      "8689     9278_01      Earth      True  G/1499/S  PSO J318.5-22  18.0  False   \n",
      "8690     9279_01      Earth     False  G/1500/S    TRAPPIST-1e  26.0  False   \n",
      "8691     9280_01     Europa     False   E/608/S    55 Cancri e  32.0  False   \n",
      "8692     9280_02     Europa     False   E/608/S    TRAPPIST-1e  44.0  False   \n",
      "\n",
      "      RoomService  FoodCourt  ShoppingMall     Spa  VRDeck               Name  \\\n",
      "0             0.0        0.0           0.0     0.0     0.0    Maham Ofracculy   \n",
      "1           109.0        9.0          25.0   549.0    44.0       Juanna Vines   \n",
      "2            43.0     3576.0           0.0  6715.0    49.0      Altark Susent   \n",
      "3             0.0     1283.0         371.0  3329.0   193.0       Solam Susent   \n",
      "4           303.0       70.0         151.0   565.0     2.0  Willy Santantines   \n",
      "...           ...        ...           ...     ...     ...                ...   \n",
      "8688          0.0     6819.0           0.0  1643.0    74.0  Gravior Noxnuther   \n",
      "8689          0.0        0.0           0.0     0.0     0.0    Kurta Mondalley   \n",
      "8690          0.0        0.0        1872.0     1.0     0.0       Fayey Connon   \n",
      "8691          0.0     1049.0           0.0   353.0  3235.0   Celeon Hontichre   \n",
      "8692        126.0     4688.0           0.0     0.0    12.0   Propsh Hontichre   \n",
      "\n",
      "      Transported  \n",
      "0           False  \n",
      "1            True  \n",
      "2           False  \n",
      "3           False  \n",
      "4            True  \n",
      "...           ...  \n",
      "8688        False  \n",
      "8689        False  \n",
      "8690         True  \n",
      "8691        False  \n",
      "8692         True  \n",
      "\n",
      "[8693 rows x 14 columns]>\n"
     ]
    }
   ],
   "source": [
    "print(train_data.describe)"
   ]
  },
  {
   "cell_type": "code",
   "execution_count": 7,
   "id": "13274487",
   "metadata": {
    "execution": {
     "iopub.execute_input": "2023-03-12T07:05:30.628143Z",
     "iopub.status.busy": "2023-03-12T07:05:30.626696Z",
     "iopub.status.idle": "2023-03-12T07:05:30.645405Z",
     "shell.execute_reply": "2023-03-12T07:05:30.643571Z"
    },
    "papermill": {
     "duration": 0.029557,
     "end_time": "2023-03-12T07:05:30.648102",
     "exception": false,
     "start_time": "2023-03-12T07:05:30.618545",
     "status": "completed"
    },
    "tags": []
   },
   "outputs": [
    {
     "name": "stdout",
     "output_type": "stream",
     "text": [
      "<bound method NDFrame.describe of      PassengerId HomePlanet CryoSleep     Cabin    Destination   Age    VIP  \\\n",
      "0        0013_01      Earth      True     G/3/S    TRAPPIST-1e  27.0  False   \n",
      "1        0018_01      Earth     False     F/4/S    TRAPPIST-1e  19.0  False   \n",
      "2        0019_01     Europa      True     C/0/S    55 Cancri e  31.0  False   \n",
      "3        0021_01     Europa     False     C/1/S    TRAPPIST-1e  38.0  False   \n",
      "4        0023_01      Earth     False     F/5/S    TRAPPIST-1e  20.0  False   \n",
      "...          ...        ...       ...       ...            ...   ...    ...   \n",
      "4272     9266_02      Earth      True  G/1496/S    TRAPPIST-1e  34.0  False   \n",
      "4273     9269_01      Earth     False       NaN    TRAPPIST-1e  42.0  False   \n",
      "4274     9271_01       Mars      True   D/296/P    55 Cancri e   NaN  False   \n",
      "4275     9273_01     Europa     False   D/297/P            NaN   NaN  False   \n",
      "4276     9277_01      Earth      True  G/1498/S  PSO J318.5-22  43.0  False   \n",
      "\n",
      "      RoomService  FoodCourt  ShoppingMall     Spa  VRDeck              Name  \n",
      "0             0.0        0.0           0.0     0.0     0.0   Nelly Carsoning  \n",
      "1             0.0        9.0           0.0  2823.0     0.0    Lerome Peckers  \n",
      "2             0.0        0.0           0.0     0.0     0.0   Sabih Unhearfus  \n",
      "3             0.0     6652.0           0.0   181.0   585.0  Meratz Caltilter  \n",
      "4            10.0        0.0         635.0     0.0     0.0   Brence Harperez  \n",
      "...           ...        ...           ...     ...     ...               ...  \n",
      "4272          0.0        0.0           0.0     0.0     0.0       Jeron Peter  \n",
      "4273          0.0      847.0          17.0    10.0   144.0     Matty Scheron  \n",
      "4274          0.0        0.0           0.0     0.0     0.0       Jayrin Pore  \n",
      "4275          0.0     2680.0           0.0     0.0   523.0    Kitakan Conale  \n",
      "4276          0.0        0.0           0.0     0.0     0.0  Lilace Leonzaley  \n",
      "\n",
      "[4277 rows x 13 columns]>\n"
     ]
    }
   ],
   "source": [
    "print(test_data.describe)"
   ]
  },
  {
   "cell_type": "code",
   "execution_count": 8,
   "id": "7f15de52",
   "metadata": {
    "execution": {
     "iopub.execute_input": "2023-03-12T07:05:30.663177Z",
     "iopub.status.busy": "2023-03-12T07:05:30.662750Z",
     "iopub.status.idle": "2023-03-12T07:05:30.678326Z",
     "shell.execute_reply": "2023-03-12T07:05:30.676982Z"
    },
    "papermill": {
     "duration": 0.026158,
     "end_time": "2023-03-12T07:05:30.680776",
     "exception": false,
     "start_time": "2023-03-12T07:05:30.654618",
     "status": "completed"
    },
    "tags": []
   },
   "outputs": [
    {
     "data": {
      "text/plain": [
       "PassengerId       0\n",
       "HomePlanet      201\n",
       "CryoSleep       217\n",
       "Cabin           199\n",
       "Destination     182\n",
       "Age             179\n",
       "VIP             203\n",
       "RoomService     181\n",
       "FoodCourt       183\n",
       "ShoppingMall    208\n",
       "Spa             183\n",
       "VRDeck          188\n",
       "Name            200\n",
       "Transported       0\n",
       "dtype: int64"
      ]
     },
     "execution_count": 8,
     "metadata": {},
     "output_type": "execute_result"
    }
   ],
   "source": [
    "train_data.isnull().sum()"
   ]
  },
  {
   "cell_type": "code",
   "execution_count": 9,
   "id": "0921742e",
   "metadata": {
    "execution": {
     "iopub.execute_input": "2023-03-12T07:05:30.696198Z",
     "iopub.status.busy": "2023-03-12T07:05:30.695755Z",
     "iopub.status.idle": "2023-03-12T07:05:30.938094Z",
     "shell.execute_reply": "2023-03-12T07:05:30.936611Z"
    },
    "papermill": {
     "duration": 0.253644,
     "end_time": "2023-03-12T07:05:30.941077",
     "exception": false,
     "start_time": "2023-03-12T07:05:30.687433",
     "status": "completed"
    },
    "tags": []
   },
   "outputs": [],
   "source": [
    "from sklearn import preprocessing\n",
    "\n",
    "label_encoder = preprocessing.LabelEncoder()\n",
    "\n",
    "test_data['HomePlanet']= label_encoder.fit_transform(test_data['HomePlanet'])\n",
    "train_data['HomePlanet']= label_encoder.fit_transform(train_data['HomePlanet'])\n",
    "\n",
    "test_data['CryoSleep']= label_encoder.fit_transform(test_data['CryoSleep'])\n",
    "train_data['CryoSleep']= label_encoder.fit_transform(train_data['CryoSleep'])\n",
    "\n",
    "test_data['Cabin']= label_encoder.fit_transform(test_data['Cabin'])\n",
    "train_data['Cabin']= label_encoder.fit_transform(train_data['Cabin'])\n",
    "\n",
    "test_data['Destination']= label_encoder.fit_transform(test_data['Destination'])\n",
    "train_data['Destination']= label_encoder.fit_transform(train_data['Destination'])\n",
    "\n",
    "test_data['Age']= label_encoder.fit_transform(test_data['Age'])\n",
    "train_data['Age']= label_encoder.fit_transform(train_data['Age'])\n",
    "\n",
    "test_data['VIP']= label_encoder.fit_transform(test_data['VIP'])\n",
    "train_data['VIP']= label_encoder.fit_transform(train_data['VIP'])\n",
    "\n",
    "test_data['RoomService']= label_encoder.fit_transform(test_data['RoomService'])\n",
    "train_data['RoomService']= label_encoder.fit_transform(train_data['RoomService'])\n",
    "\n",
    "test_data['FoodCourt']= label_encoder.fit_transform(test_data['FoodCourt'])\n",
    "train_data['FoodCourt']= label_encoder.fit_transform(train_data['FoodCourt'])\n",
    "\n",
    "test_data['ShoppingMall']= label_encoder.fit_transform(test_data['ShoppingMall'])\n",
    "train_data['ShoppingMall']= label_encoder.fit_transform(train_data['ShoppingMall'])\n",
    "\n",
    "test_data['Spa']= label_encoder.fit_transform(test_data['Spa'])\n",
    "train_data['Spa']= label_encoder.fit_transform(train_data['Spa'])\n",
    "\n",
    "test_data['VRDeck']= label_encoder.fit_transform(test_data['VRDeck'])\n",
    "train_data['VRDeck']= label_encoder.fit_transform(train_data['VRDeck'])"
   ]
  },
  {
   "cell_type": "code",
   "execution_count": 10,
   "id": "1c59b61b",
   "metadata": {
    "execution": {
     "iopub.execute_input": "2023-03-12T07:05:30.956703Z",
     "iopub.status.busy": "2023-03-12T07:05:30.956308Z",
     "iopub.status.idle": "2023-03-12T07:05:30.969912Z",
     "shell.execute_reply": "2023-03-12T07:05:30.968668Z"
    },
    "papermill": {
     "duration": 0.024586,
     "end_time": "2023-03-12T07:05:30.972559",
     "exception": false,
     "start_time": "2023-03-12T07:05:30.947973",
     "status": "completed"
    },
    "tags": []
   },
   "outputs": [
    {
     "data": {
      "text/plain": [
       "PassengerId       0\n",
       "HomePlanet        0\n",
       "CryoSleep         0\n",
       "Cabin             0\n",
       "Destination       0\n",
       "Age               0\n",
       "VIP               0\n",
       "RoomService       0\n",
       "FoodCourt         0\n",
       "ShoppingMall      0\n",
       "Spa               0\n",
       "VRDeck            0\n",
       "Name            200\n",
       "Transported       0\n",
       "dtype: int64"
      ]
     },
     "execution_count": 10,
     "metadata": {},
     "output_type": "execute_result"
    }
   ],
   "source": [
    "train_data.isnull().sum()"
   ]
  },
  {
   "cell_type": "code",
   "execution_count": 11,
   "id": "f754c792",
   "metadata": {
    "execution": {
     "iopub.execute_input": "2023-03-12T07:05:30.989636Z",
     "iopub.status.busy": "2023-03-12T07:05:30.989202Z",
     "iopub.status.idle": "2023-03-12T07:05:31.003838Z",
     "shell.execute_reply": "2023-03-12T07:05:31.002676Z"
    },
    "papermill": {
     "duration": 0.026949,
     "end_time": "2023-03-12T07:05:31.006379",
     "exception": false,
     "start_time": "2023-03-12T07:05:30.979430",
     "status": "completed"
    },
    "tags": []
   },
   "outputs": [],
   "source": [
    "\n",
    "New_CryoSleep=train_data['CryoSleep'].mean()\n",
    "New_CryoSleep1=test_data['CryoSleep'].mean()\n",
    "\n",
    "New_Cabin=train_data['Cabin'].mean()\n",
    "New_Cabin1=test_data['Cabin'].mean()\n",
    "\n",
    "New_age=train_data['Age'].mean()\n",
    "New_age1=test_data['Age'].mean()\n",
    "\n",
    "New_VIP=train_data['VIP'].mean()\n",
    "New_VIP1=test_data['VIP'].mean()\n",
    "\n",
    "New_RoomService=train_data['RoomService'].mean()\n",
    "New_RoomService1=test_data['RoomService'].mean()\n",
    "\n",
    "New_FoodCourt=train_data['FoodCourt'].mean()\n",
    "New_FoodCourt1=test_data['FoodCourt'].mean()\n",
    "\n",
    "New_ShoppingMall=train_data['ShoppingMall'].mean()\n",
    "New_ShoppingMall1=test_data['ShoppingMall'].mean()\n",
    "\n",
    "New_spa=train_data['Spa'].mean()\n",
    "New_spa1=test_data['Spa'].mean()\n",
    "\n",
    "New_VRDeck=train_data['VRDeck'].mean()\n",
    "New_VRDeck1=test_data['VRDeck'].mean()"
   ]
  },
  {
   "cell_type": "code",
   "execution_count": 12,
   "id": "3ecd6619",
   "metadata": {
    "execution": {
     "iopub.execute_input": "2023-03-12T07:05:31.023063Z",
     "iopub.status.busy": "2023-03-12T07:05:31.021632Z",
     "iopub.status.idle": "2023-03-12T07:05:31.041088Z",
     "shell.execute_reply": "2023-03-12T07:05:31.039594Z"
    },
    "papermill": {
     "duration": 0.030984,
     "end_time": "2023-03-12T07:05:31.044146",
     "exception": false,
     "start_time": "2023-03-12T07:05:31.013162",
     "status": "completed"
    },
    "tags": []
   },
   "outputs": [],
   "source": [
    "# fillna() is used for fill all NaN into the data that we are giving\n",
    "\n",
    "train_data['HomePlanet'] = train_data['HomePlanet'].fillna(0)\n",
    "test_data['HomePlanet'] = test_data['HomePlanet'].fillna(0)\n",
    "\n",
    "train_data['CryoSleep'] = train_data['CryoSleep'].fillna(0)\n",
    "test_data['CryoSleep'] = test_data['CryoSleep'].fillna(0)\n",
    "\n",
    "train_data['Cabin'] = train_data['Cabin'].fillna(New_Cabin)\n",
    "test_data['Cabin'] = test_data['Cabin'].fillna(New_Cabin1)\n",
    "\n",
    "train_data['Destination'] = train_data['Destination'].fillna(0)\n",
    "test_data['Destination'] = test_data['Destination'].fillna(0)\n",
    "\n",
    "train_data['Age'] = train_data['Age'].fillna(New_age)\n",
    "test_data['Age'] = test_data['Age'].fillna(New_age1)\n",
    "\n",
    "train_data['RoomService'] = train_data['RoomService'].fillna(New_RoomService)\n",
    "test_data['RoomService'] = test_data['RoomService'].fillna(New_RoomService1)\n",
    "\n",
    "train_data['FoodCourt'] = train_data['FoodCourt'].fillna(New_FoodCourt)\n",
    "test_data['FoodCourt'] = test_data['FoodCourt'].fillna(New_FoodCourt)\n",
    "\n",
    "train_data['ShoppingMall'] = train_data['ShoppingMall'].fillna(New_ShoppingMall)\n",
    "test_data['ShoppingMall'] = test_data['ShoppingMall'].fillna(New_ShoppingMall1)\n",
    "\n",
    "train_data['Spa'] = train_data['Spa'].fillna(New_spa)\n",
    "test_data['Spa'] = test_data['Spa'].fillna(New_spa1)\n",
    "\n",
    "train_data['VRDeck'] = train_data['VRDeck'].fillna(New_VRDeck)\n",
    "test_data['VRDeck'] = test_data['VRDeck'].fillna(New_VRDeck1)"
   ]
  },
  {
   "cell_type": "code",
   "execution_count": 13,
   "id": "b27e7881",
   "metadata": {
    "execution": {
     "iopub.execute_input": "2023-03-12T07:05:31.061020Z",
     "iopub.status.busy": "2023-03-12T07:05:31.059662Z",
     "iopub.status.idle": "2023-03-12T07:05:31.075773Z",
     "shell.execute_reply": "2023-03-12T07:05:31.074138Z"
    },
    "papermill": {
     "duration": 0.027607,
     "end_time": "2023-03-12T07:05:31.078654",
     "exception": false,
     "start_time": "2023-03-12T07:05:31.051047",
     "status": "completed"
    },
    "tags": []
   },
   "outputs": [
    {
     "data": {
      "text/html": [
       "<div>\n",
       "<style scoped>\n",
       "    .dataframe tbody tr th:only-of-type {\n",
       "        vertical-align: middle;\n",
       "    }\n",
       "\n",
       "    .dataframe tbody tr th {\n",
       "        vertical-align: top;\n",
       "    }\n",
       "\n",
       "    .dataframe thead th {\n",
       "        text-align: right;\n",
       "    }\n",
       "</style>\n",
       "<table border=\"1\" class=\"dataframe\">\n",
       "  <thead>\n",
       "    <tr style=\"text-align: right;\">\n",
       "      <th></th>\n",
       "      <th>PassengerId</th>\n",
       "      <th>HomePlanet</th>\n",
       "      <th>CryoSleep</th>\n",
       "      <th>Cabin</th>\n",
       "      <th>Destination</th>\n",
       "      <th>Age</th>\n",
       "      <th>VIP</th>\n",
       "      <th>RoomService</th>\n",
       "      <th>FoodCourt</th>\n",
       "      <th>ShoppingMall</th>\n",
       "      <th>Spa</th>\n",
       "      <th>VRDeck</th>\n",
       "      <th>Name</th>\n",
       "    </tr>\n",
       "  </thead>\n",
       "  <tbody>\n",
       "    <tr>\n",
       "      <th>0</th>\n",
       "      <td>0013_01</td>\n",
       "      <td>0</td>\n",
       "      <td>1</td>\n",
       "      <td>2784</td>\n",
       "      <td>2</td>\n",
       "      <td>27</td>\n",
       "      <td>0</td>\n",
       "      <td>0</td>\n",
       "      <td>0</td>\n",
       "      <td>0</td>\n",
       "      <td>0</td>\n",
       "      <td>0</td>\n",
       "      <td>Nelly Carsoning</td>\n",
       "    </tr>\n",
       "  </tbody>\n",
       "</table>\n",
       "</div>"
      ],
      "text/plain": [
       "  PassengerId  HomePlanet  CryoSleep  Cabin  Destination  Age  VIP  \\\n",
       "0     0013_01           0          1   2784            2   27    0   \n",
       "\n",
       "   RoomService  FoodCourt  ShoppingMall  Spa  VRDeck             Name  \n",
       "0            0          0             0    0       0  Nelly Carsoning  "
      ]
     },
     "execution_count": 13,
     "metadata": {},
     "output_type": "execute_result"
    }
   ],
   "source": [
    "test_data.head(1)"
   ]
  },
  {
   "cell_type": "code",
   "execution_count": 14,
   "id": "83831e2d",
   "metadata": {
    "execution": {
     "iopub.execute_input": "2023-03-12T07:05:31.095083Z",
     "iopub.status.busy": "2023-03-12T07:05:31.094652Z",
     "iopub.status.idle": "2023-03-12T07:05:32.299950Z",
     "shell.execute_reply": "2023-03-12T07:05:32.298611Z"
    },
    "papermill": {
     "duration": 1.216767,
     "end_time": "2023-03-12T07:05:32.302707",
     "exception": false,
     "start_time": "2023-03-12T07:05:31.085940",
     "status": "completed"
    },
    "tags": []
   },
   "outputs": [
    {
     "data": {
      "text/plain": [
       "<AxesSubplot:xlabel='Age', ylabel='count'>"
      ]
     },
     "execution_count": 14,
     "metadata": {},
     "output_type": "execute_result"
    },
    {
     "data": {
      "image/png": "[encoded data removed]",
      "text/plain": [
       "<Figure size 640x480 with 1 Axes>"
      ]
     },
     "metadata": {},
     "output_type": "display_data"
    }
   ],
   "source": [
    "sns.countplot(x = train_data.Age)"
   ]
  },
  {
   "cell_type": "code",
   "execution_count": 15,
   "id": "057aa149",
   "metadata": {
    "execution": {
     "iopub.execute_input": "2023-03-12T07:05:32.323921Z",
     "iopub.status.busy": "2023-03-12T07:05:32.322442Z",
     "iopub.status.idle": "2023-03-12T07:05:32.535983Z",
     "shell.execute_reply": "2023-03-12T07:05:32.534817Z"
    },
    "papermill": {
     "duration": 0.225839,
     "end_time": "2023-03-12T07:05:32.538992",
     "exception": false,
     "start_time": "2023-03-12T07:05:32.313153",
     "status": "completed"
    },
    "tags": []
   },
   "outputs": [
    {
     "data": {
      "text/plain": [
       "<AxesSubplot:xlabel='HomePlanet', ylabel='count'>"
      ]
     },
     "execution_count": 15,
     "metadata": {},
     "output_type": "execute_result"
    },
    {
     "data": {
      "image/png": "[encoded data removed]",
      "text/plain": [
       "<Figure size 640x480 with 1 Axes>"
      ]
     },
     "metadata": {},
     "output_type": "display_data"
    }
   ],
   "source": [
    "sns.countplot(x = train_data.HomePlanet)"
   ]
  },
  {
   "cell_type": "code",
   "execution_count": 16,
   "id": "dbd74328",
   "metadata": {
    "execution": {
     "iopub.execute_input": "2023-03-12T07:05:32.558732Z",
     "iopub.status.busy": "2023-03-12T07:05:32.557403Z",
     "iopub.status.idle": "2023-03-12T07:05:32.728628Z",
     "shell.execute_reply": "2023-03-12T07:05:32.727334Z"
    },
    "papermill": {
     "duration": 0.183834,
     "end_time": "2023-03-12T07:05:32.731157",
     "exception": false,
     "start_time": "2023-03-12T07:05:32.547323",
     "status": "completed"
    },
    "tags": []
   },
   "outputs": [
    {
     "data": {
      "text/plain": [
       "<AxesSubplot:xlabel='VIP', ylabel='count'>"
      ]
     },
     "execution_count": 16,
     "metadata": {},
     "output_type": "execute_result"
    },
    {
     "data": {
      "image/png": "[encoded data removed]",
      "text/plain": [
       "<Figure size 640x480 with 1 Axes>"
      ]
     },
     "metadata": {},
     "output_type": "display_data"
    }
   ],
   "source": [
    "sns.countplot(x = train_data.VIP)"
   ]
  },
  {
   "cell_type": "code",
   "execution_count": 17,
   "id": "1580214d",
   "metadata": {
    "execution": {
     "iopub.execute_input": "2023-03-12T07:05:32.750237Z",
     "iopub.status.busy": "2023-03-12T07:05:32.749476Z",
     "iopub.status.idle": "2023-03-12T07:05:32.771173Z",
     "shell.execute_reply": "2023-03-12T07:05:32.769925Z"
    },
    "papermill": {
     "duration": 0.034602,
     "end_time": "2023-03-12T07:05:32.774207",
     "exception": false,
     "start_time": "2023-03-12T07:05:32.739605",
     "status": "completed"
    },
    "tags": []
   },
   "outputs": [],
   "source": [
    "y = train_data[\"Transported\"]\n",
    "Data = ['HomePlanet','CryoSleep','Cabin','Destination','Age','VIP','RoomService',\n",
    "        'FoodCourt','ShoppingMall','Spa','VRDeck']\n",
    "\n",
    "X = pd.get_dummies(train_data[Data])\n",
    "X_test = pd.get_dummies(test_data[Data])"
   ]
  },
  {
   "cell_type": "code",
   "execution_count": 18,
   "id": "bbc2dd0e",
   "metadata": {
    "execution": {
     "iopub.execute_input": "2023-03-12T07:05:32.794056Z",
     "iopub.status.busy": "2023-03-12T07:05:32.793609Z",
     "iopub.status.idle": "2023-03-12T07:05:35.144528Z",
     "shell.execute_reply": "2023-03-12T07:05:35.143222Z"
    },
    "papermill": {
     "duration": 2.364203,
     "end_time": "2023-03-12T07:05:35.147604",
     "exception": false,
     "start_time": "2023-03-12T07:05:32.783401",
     "status": "completed"
    },
    "tags": []
   },
   "outputs": [
    {
     "data": {
      "text/html": [
       "<style type='text/css'>\n",
       ".datatable table.frame { margin-bottom: 0; }\n",
       ".datatable table.frame thead { border-bottom: none; }\n",
       ".datatable table.frame tr.coltypes td {  color: #FFFFFF;  line-height: 6px;  padding: 0 0.5em;}\n",
       ".datatable .bool    { background: #DDDD99; }\n",
       ".datatable .object  { background: #565656; }\n",
       ".datatable .int     { background: #5D9E5D; }\n",
       ".datatable .float   { background: #4040CC; }\n",
       ".datatable .str     { background: #CC4040; }\n",
       ".datatable .time    { background: #40CC40; }\n",
       ".datatable .row_index {  background: var(--jp-border-color3);  border-right: 1px solid var(--jp-border-color0);  color: var(--jp-ui-font-color3);  font-size: 9px;}\n",
       ".datatable .frame tbody td { text-align: left; }\n",
       ".datatable .frame tr.coltypes .row_index {  background: var(--jp-border-color0);}\n",
       ".datatable th:nth-child(2) { padding-left: 12px; }\n",
       ".datatable .hellipsis {  color: var(--jp-cell-editor-border-color);}\n",
       ".datatable .vellipsis {  background: var(--jp-layout-color0);  color: var(--jp-cell-editor-border-color);}\n",
       ".datatable .na {  color: var(--jp-cell-editor-border-color);  font-size: 80%;}\n",
       ".datatable .sp {  opacity: 0.25;}\n",
       ".datatable .footer { font-size: 9px; }\n",
       ".datatable .frame_dimensions {  background: var(--jp-border-color3);  border-top: 1px solid var(--jp-border-color0);  color: var(--jp-ui-font-color3);  display: inline-block;  opacity: 0.6;  padding: 1px 10px 1px 5px;}\n",
       "</style>\n"
      ],
      "text/plain": [
       "<IPython.core.display.HTML object>"
      ]
     },
     "metadata": {},
     "output_type": "display_data"
    }
   ],
   "source": [
    "# we are using lgb for training to get desire output.\n",
    "import lightgbm as lgb\n",
    "model = lgb.LGBMClassifier()\n",
    "\n",
    "model.fit(X, y)\n",
    "\n",
    "y_pred = model.predict(X_test)\n",
    "\n",
    "\n",
    "numeric = np.array([[0,1,2784,2,27,0,0,0,0,0,0]])\n",
    "columns = ['HomePlanet','CryoSleep','Cabin','Destination','Age','VIP','RoomService',\n",
    "        'FoodCourt','ShoppingMall','Spa','VRDeck']\n",
    "\n",
    "# pd.DataFrame is used for creating a dataset\n",
    "new_data = pd.DataFrame(data = numeric, columns = columns)"
   ]
  },
  {
   "cell_type": "code",
   "execution_count": 19,
   "id": "19b8e92f",
   "metadata": {
    "execution": {
     "iopub.execute_input": "2023-03-12T07:05:35.168022Z",
     "iopub.status.busy": "2023-03-12T07:05:35.167534Z",
     "iopub.status.idle": "2023-03-12T07:05:35.189219Z",
     "shell.execute_reply": "2023-03-12T07:05:35.187992Z"
    },
    "papermill": {
     "duration": 0.035376,
     "end_time": "2023-03-12T07:05:35.192215",
     "exception": false,
     "start_time": "2023-03-12T07:05:35.156839",
     "status": "completed"
    },
    "tags": []
   },
   "outputs": [
    {
     "data": {
      "text/plain": [
       "1.0"
      ]
     },
     "execution_count": 19,
     "metadata": {},
     "output_type": "execute_result"
    }
   ],
   "source": [
    "model.score(X_test,y_pred)"
   ]
  },
  {
   "cell_type": "code",
   "execution_count": 20,
   "id": "780a4890",
   "metadata": {
    "execution": {
     "iopub.execute_input": "2023-03-12T07:05:35.211608Z",
     "iopub.status.busy": "2023-03-12T07:05:35.211150Z",
     "iopub.status.idle": "2023-03-12T07:05:35.221934Z",
     "shell.execute_reply": "2023-03-12T07:05:35.220895Z"
    },
    "papermill": {
     "duration": 0.023253,
     "end_time": "2023-03-12T07:05:35.224316",
     "exception": false,
     "start_time": "2023-03-12T07:05:35.201063",
     "status": "completed"
    },
    "tags": []
   },
   "outputs": [
    {
     "data": {
      "text/plain": [
       "array([ True])"
      ]
     },
     "execution_count": 20,
     "metadata": {},
     "output_type": "execute_result"
    }
   ],
   "source": [
    "model.predict(new_data)"
   ]
  },
  {
   "cell_type": "code",
   "execution_count": 21,
   "id": "9ab85c3f",
   "metadata": {
    "execution": {
     "iopub.execute_input": "2023-03-12T07:05:35.244716Z",
     "iopub.status.busy": "2023-03-12T07:05:35.243355Z",
     "iopub.status.idle": "2023-03-12T07:05:35.261657Z",
     "shell.execute_reply": "2023-03-12T07:05:35.260237Z"
    },
    "papermill": {
     "duration": 0.031759,
     "end_time": "2023-03-12T07:05:35.264927",
     "exception": false,
     "start_time": "2023-03-12T07:05:35.233168",
     "status": "completed"
    },
    "tags": []
   },
   "outputs": [],
   "source": [
    "output = pd.DataFrame({'PassengerId': test_data.PassengerId, 'Transported': y_pred})\n",
    "output.to_csv('submission.csv', index=False)"
   ]
  },
  {
   "cell_type": "code",
   "execution_count": null,
   "id": "a88931ac",
   "metadata": {
    "papermill": {
     "duration": 0.008568,
     "end_time": "2023-03-12T07:05:35.283122",
     "exception": false,
     "start_time": "2023-03-12T07:05:35.274554",
     "status": "completed"
    },
    "tags": []
   },
   "outputs": [],
   "source": []
  }
 ],
 "metadata": {
  "kernelspec": {
   "display_name": "Python 3",
   "language": "python",
   "name": "python3"
  },
  "language_info": {
   "codemirror_mode": {
    "name": "ipython",
    "version": 3
   },
   "file_extension": ".py",
   "mimetype": "text/x-python",
   "name": "python",
   "nbconvert_exporter": "python",
   "pygments_lexer": "ipython3",
   "version": "3.7.12"
  },
  "papermill": {
   "default_parameters": {},
   "duration": 22.099996,
   "end_time": "2023-03-12T07:05:36.416919",
   "environment_variables": {},
   "exception": null,
   "input_path": "__notebook__.ipynb",
   "output_path": "__notebook__.ipynb",
   "parameters": {},
   "start_time": "2023-03-12T07:05:14.316923",
   "version": "2.4.0"
  }
 },
 "nbformat": 4,
 "nbformat_minor": 5
}
